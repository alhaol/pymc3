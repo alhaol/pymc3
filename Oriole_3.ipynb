{
 "cells": [
  {
   "cell_type": "markdown",
   "metadata": {},
   "source": [
    " ## Probabilistic Programming from Scratch 3: Performance and PyMC3"
   ]
  },
  {
   "cell_type": "markdown",
   "metadata": {},
   "source": [
    "https://www.safaribooksonline.com/oriole/probabilistic-programming-from-scratch-3-improving-algorithmic-performance-and-online-learning"
   ]
  },
  {
   "cell_type": "markdown",
   "metadata": {},
   "source": [
    "- What probabilistic programming truly means?\n",
    "- Bayesian method's value in probabilistic programming\n",
    "- ABC quantifies risk, inserts institutional knowledge, and handles on-line learning\n",
    "- Compare the qualities of a custom-built ABC based system vs. off-the-shelf PyMC3"
   ]
  },
  {
   "cell_type": "markdown",
   "metadata": {},
   "source": [
    ">> Approximate Bayesian Computation is a brute force algorithm. It works, but it's not quick. We're going to:"
   ]
  },
  {
   "cell_type": "markdown",
   "metadata": {},
   "source": [
    "### APPROXIMATE BAYESIAN COMPUTATION REFRESHER"
   ]
  },
  {
   "cell_type": "code",
   "execution_count": 2,
   "metadata": {
    "collapsed": true
   },
   "outputs": [],
   "source": [
    "import itertools\n",
    "import random\n",
    "\n",
    "def abayes(data, prior_sampler, simulate, compare):\n",
    "    '''Yield samples from the posterior by Approximate Bayesian Computation.'''\n",
    "    for p in prior_sampler:\n",
    "        if compare(simulate(p), data):\n",
    "            yield p\n",
    "\n",
    "\n",
    "# prior_sampler\n",
    "def uniform_prior_sampler():\n",
    "    '''Yield random numbers in interval (0, 1).'''\n",
    "    while True:\n",
    "        yield random.random()\n",
    "\n",
    "# simulate\n",
    "def simulate_conversion(p, n_visitors):\n",
    "    '''Return number of vistors who convert given conversion fraction p.'''\n",
    "    return sum(random.random() < p for _ in range(n_visitors))\n",
    "\n",
    "# compare\n",
    "def compare_conversion(sim, obs):\n",
    "    '''Return True if two observations are the same.'''\n",
    "    return sim == obs\n",
    "\n",
    "# take to take a specific number of samples from a generator and load them as a list.\n",
    "def take(n, iterable):\n",
    "    \"Return first n items of the iterable as a list\"\n",
    "    return list(itertools.islice(iterable, n))"
   ]
  },
  {
   "cell_type": "code",
   "execution_count": 3,
   "metadata": {},
   "outputs": [
    {
     "name": "stdout",
     "output_type": "stream",
     "text": [
      "2.41 ms ± 237 µs per loop (mean ± std. dev. of 7 runs, 100 loops each)\n"
     ]
    }
   ],
   "source": [
    "posterior_sampler = abayes(\n",
    "    data=4,\n",
    "    prior_sampler=uniform_prior_sampler(),\n",
    "    simulate=lambda p: simulate_conversion(p, 100),\n",
    "    compare=compare_conversion)\n",
    "\n",
    "%timeit take(1, posterior_sampler)"
   ]
  },
  {
   "cell_type": "code",
   "execution_count": 4,
   "metadata": {
    "scrolled": true
   },
   "outputs": [
    {
     "name": "stdout",
     "output_type": "stream",
     "text": [
      "The slowest run took 75.91 times longer than the fastest. This could mean that an intermediate result is being cached.\n",
      "245 ms ± 206 ms per loop (mean ± std. dev. of 7 runs, 1 loop each)\n"
     ]
    }
   ],
   "source": [
    "# What if we have ten times as many conversions and visitors: 40/1000\n",
    "\n",
    "posterior_sampler_big = abayes(\n",
    "    data=40,\n",
    "    prior_sampler=uniform_prior_sampler(),\n",
    "    simulate=lambda p: simulate_conversion(p, 1000),\n",
    "    compare=compare_conversion)\n",
    "\n",
    "%timeit take(1, posterior_sampler_big)"
   ]
  },
  {
   "cell_type": "markdown",
   "metadata": {},
   "source": [
    "> We need thousands of samples from the posterior to build up a complete picture of the posterior distribution.\n",
    "\n",
    "#### IMPROVING PERFORMANCE\n",
    "> We can do this by changing the compare function to give it some \"fuzziness\", "
   ]
  },
  {
   "cell_type": "code",
   "execution_count": 5,
   "metadata": {},
   "outputs": [],
   "source": [
    "def compare_conversion_fuzzy(sim, obs, tol=0.1):\n",
    "    '''Return True if two observations agree within a relative tolerance.'''\n",
    "    return abs(sim - obs)/(sim + 1.0) < tol"
   ]
  },
  {
   "cell_type": "markdown",
   "metadata": {},
   "source": [
    "> This function returns True if the difference between sim and obs is less than 10% of the value of sim. The +1 is in there to make sure we don't divide by zero."
   ]
  },
  {
   "cell_type": "code",
   "execution_count": 6,
   "metadata": {},
   "outputs": [
    {
     "name": "stdout",
     "output_type": "stream",
     "text": [
      "34.6 ms ± 9.78 ms per loop (mean ± std. dev. of 7 runs, 10 loops each)\n",
      "\n",
      " That's a big speedup of a factor of 10 or so \n",
      " \n"
     ]
    }
   ],
   "source": [
    "posterior_sampler_big_fuzzy = abayes(\n",
    "    data=40,\n",
    "    prior_sampler=uniform_prior_sampler(),\n",
    "    simulate=lambda p: simulate_conversion(p, 1000),\n",
    "    compare=compare_conversion_fuzzy)\n",
    "\n",
    "%timeit take(1, posterior_sampler_big_fuzzy)\n",
    "\n",
    "print(\"\\n That's a big speedup of a factor of 10 or so \\n \")"
   ]
  },
  {
   "cell_type": "markdown",
   "metadata": {},
   "source": [
    "> fuzzy comparison means that you get a fuzzy posterior. \n",
    ">> The peak will be in the right place, but it will be smeared out."
   ]
  },
  {
   "cell_type": "code",
   "execution_count": 7,
   "metadata": {},
   "outputs": [],
   "source": [
    "nsamples = 100\n",
    "a_samples = take(nsamples, posterior_sampler_big)\n",
    "a_samples_fuzzy = take(nsamples, posterior_sampler_big_fuzzy)"
   ]
  },
  {
   "cell_type": "code",
   "execution_count": 8,
   "metadata": {
    "scrolled": true
   },
   "outputs": [
    {
     "data": {
      "image/png": "[encoded data removed]",
      "text/plain": [
       "<matplotlib.figure.Figure at 0x7fe1d9a86390>"
      ]
     },
     "metadata": {},
     "output_type": "display_data"
    }
   ],
   "source": [
    "%matplotlib inline\n",
    "import matplotlib.pyplot as plt\n",
    "\n",
    "abbins = [i/200.0 for i in range(50)]  # 50 bins between 0 and 0.25\n",
    "plt.hist(a_samples, bins=abbins, label='A', normed=True)\n",
    "plt.hist(a_samples_fuzzy, bins=abbins, label='10% Fuzzy', alpha=0.5, normed=True)\n",
    "plt.title('Estimates of conversion fraction after the A/B test')\n",
    "plt.legend();"
   ]
  },
  {
   "cell_type": "markdown",
   "metadata": {},
   "source": [
    "***"
   ]
  },
  {
   "cell_type": "markdown",
   "metadata": {},
   "source": [
    "#### THE GERMAN TANK PROBLEM\n",
    "\n",
    "- German tanks were assigned a serial number when they rolled off the production line \n",
    "- The first tank was number 0, the next was number 1, and so on, up to n_tanks-1\n",
    "- __The question is__: given those n_caught serial numbers, how many tanks does Germany have, i.e. what is n_tanks?"
   ]
  },
  {
   "cell_type": "markdown",
   "metadata": {},
   "source": [
    "### To use our function abayes() we need the four arguments:\n",
    "\n",
    "1. data\n",
    "2. a generator that yields samples from the prior\n",
    "3. a function to simulate the data given values of n_tanks and n_caught\n",
    "4. a function to compare the data with the outcome of a simulation"
   ]
  },
  {
   "cell_type": "markdown",
   "metadata": {},
   "source": [
    "> Let's assume the Allies catch two tanks and these have these serial numbers.\n",
    ">> Next, the generator to get samples from the prior. The Allies know the Germans have at least max(captured_tanks) tanks."
   ]
  },
  {
   "cell_type": "code",
   "execution_count": 9,
   "metadata": {
    "collapsed": true
   },
   "outputs": [],
   "source": [
    "captured_tanks = [314, 421]\n",
    "max_upper=5000"
   ]
  },
  {
   "cell_type": "code",
   "execution_count": 10,
   "metadata": {},
   "outputs": [],
   "source": [
    "def prior_ntanks_sampler(captured_tanks, upper=max_upper):\n",
    "    '''Yield random integers in the range (max(captured_tanks), upper).'''\n",
    "    while True:\n",
    "        yield random.randint(max(captured_tanks), upper)"
   ]
  },
  {
   "cell_type": "markdown",
   "metadata": {},
   "source": [
    ">> Now a function to simulate the data, assuming there are N tanks, and the Allies catch m.\n",
    "\n",
    ">>Note that this function uses sample which ensures that we don't get the same number twice. You can't capture a tank twice."
   ]
  },
  {
   "cell_type": "code",
   "execution_count": 11,
   "metadata": {
    "collapsed": true
   },
   "outputs": [],
   "source": [
    "def simulate_tanks(n_tanks, n_caught):\n",
    "    '''Return serial numbers of n_caught tanks given there are a total of n_tanks.'''\n",
    "    return random.sample(range(n_tanks), n_caught)"
   ]
  },
  {
   "cell_type": "markdown",
   "metadata": {},
   "source": [
    "> Finally, we need a function to compare the serial numbers of the observed tanks and the results of a simulation.\n",
    "\n",
    ">> Again, to speed things up, we'll give our function a tolerance, so that the simulation needs to be similar to the data, rather than identical."
   ]
  },
  {
   "cell_type": "code",
   "execution_count": 12,
   "metadata": {},
   "outputs": [],
   "source": [
    "def compare_tanks(obs1, obs2, tol=20):\n",
    "    '''Return True if two sets of serial numbers agree within a tolerance.'''\n",
    "    return all(abs(o1 - o2) <= tol \n",
    "               for o1, o2 in zip(sorted(obs1), sorted(obs2)))"
   ]
  },
  {
   "cell_type": "markdown",
   "metadata": {},
   "source": [
    ">> Now we're all set to run abayes and draw 1000 samples from the posterior distribution for the number of tanks."
   ]
  },
  {
   "cell_type": "code",
   "execution_count": 13,
   "metadata": {
    "collapsed": true
   },
   "outputs": [],
   "source": [
    "posterior_ntanks_sampler = abayes(\n",
    "    captured_tanks,\n",
    "    prior_ntanks_sampler(captured_tanks),\n",
    "    lambda n_tanks: simulate_tanks(n_tanks, len(captured_tanks)),\n",
    "    compare_tanks)\n",
    "\n",
    "tank_samples = take(1000, posterior_ntanks_sampler)"
   ]
  },
  {
   "cell_type": "markdown",
   "metadata": {},
   "source": [
    ">> overplot the analytic solution to this problem. This is the known correct answer "
   ]
  },
  {
   "cell_type": "code",
   "execution_count": 14,
   "metadata": {
    "collapsed": true
   },
   "outputs": [],
   "source": [
    "from math import factorial\n",
    "\n",
    "\n",
    "def binom(x, y):\n",
    "    '''Return binomial coefficient for x, y.'''\n",
    "    return factorial(x)//(factorial(y) * factorial(x - y))\n",
    "\n",
    "\n",
    "def analytic_solution(n_tanks, captured_tanks):\n",
    "    '''Probability that there are n_tanks given a list of captured serial numbers.'''\n",
    "    k = len(captured_tanks)\n",
    "    if k < 2:\n",
    "        raise ValueError(\"Analytic formula valid for len(captured_tanks) >= 2.\".format(k))\n",
    "    m = max(captured_tanks)\n",
    "    if n_tanks < m:\n",
    "        return 0.0\n",
    "    else:\n",
    "        return (k - 1)/k * binom(m - 1, k - 1)/binom(n_tanks, k)"
   ]
  },
  {
   "cell_type": "code",
   "execution_count": 15,
   "metadata": {
    "scrolled": true
   },
   "outputs": [
    {
     "data": {
      "image/png": "[encoded data removed]",
      "text/plain": [
       "<matplotlib.figure.Figure at 0x7fe2211e2ef0>"
      ]
     },
     "metadata": {},
     "output_type": "display_data"
    }
   ],
   "source": [
    "%matplotlib inline\n",
    "import matplotlib.pyplot as plt\n",
    "\n",
    "tank_bins = range(0, 5000, 50)\n",
    "plt.hist(tank_samples, normed=True, bins=tank_bins)\n",
    "plt.plot(tank_bins, [analytic_solution(x, captured_tanks) for x in tank_bins]);"
   ]
  },
  {
   "cell_type": "markdown",
   "metadata": {},
   "source": [
    "## what's the probability that Germany has more than 1000 tanks."
   ]
  },
  {
   "cell_type": "code",
   "execution_count": 16,
   "metadata": {},
   "outputs": [
    {
     "name": "stdout",
     "output_type": "stream",
     "text": [
      "The probability that Germany has more than 1000 tanks =  0.367\n"
     ]
    }
   ],
   "source": [
    "pro=sum(t > 1000 for t in tank_samples)/len(tank_samples)\n",
    "print( \"The probability that Germany has more than 1000 tanks = \", pro)\n",
    "\n"
   ]
  },
  {
   "cell_type": "markdown",
   "metadata": {},
   "source": [
    "***"
   ]
  },
  {
   "cell_type": "markdown",
   "metadata": {},
   "source": [
    "__Probabilistic programming__ is an approach to language or library design that hides the complexity of solving an inference problem.\n",
    "\n",
    "> all you have to do is write two functions and a generator.\n",
    "> need to graduate to industrial strength sampling algorithms.\n",
    "> The best-known examples are:\n",
    "\n",
    "1. __Markov Chain Monte Carlo__ [Link](https://jeremykun.com/2015/04/06/markov-chain-monte-carlo-without-all-the-bullshit/)     (which includes Metropolis Hastings and Gibbs sampling) \n",
    "\n",
    "2. __Hamiltonian Monte Carlo__  [link](https://www.safaribooksonline.com/oriole/(http://blog.fastforwardlabs.com/2017/01/30/the-algorithms-behind-probabilistic-programming.html)\n",
    "\n",
    "3. __ADVI__\n",
    "\n",
    "** These are super fast, but fragile and tough to implement.**"
   ]
  },
  {
   "cell_type": "markdown",
   "metadata": {},
   "source": [
    "> using an off-the-shelf probabilistic programming system called PyMC3. It's not only orders of magnitude faster, it also makes specifying your simulation process much easier because fundamental ideas like random variables and distributions are primitive objects that can be composed together"
   ]
  },
  {
   "cell_type": "code",
   "execution_count": 18,
   "metadata": {
    "scrolled": false
   },
   "outputs": [
    {
     "name": "stderr",
     "output_type": "stream",
     "text": [
      "Assigned Metropolis to n_tanks\n",
      "\r",
      "  0%|          | 0/10500 [00:00<?, ?it/s]\r",
      "  7%|▋         | 712/10500 [00:00<00:01, 7114.51it/s]\r",
      " 14%|█▍        | 1491/10500 [00:00<00:01, 7302.87it/s]\r",
      " 21%|██        | 2225/10500 [00:00<00:01, 7313.70it/s]\r",
      " 29%|██▊       | 3018/10500 [00:00<00:00, 7488.20it/s]\r",
      " 35%|███▍      | 3659/10500 [00:00<00:00, 7127.03it/s]\r",
      " 41%|████      | 4297/10500 [00:00<00:00, 6884.02it/s]\r",
      " 47%|████▋     | 4937/10500 [00:00<00:00, 6728.35it/s]\r",
      " 53%|█████▎    | 5573/10500 [00:00<00:00, 6612.84it/s]\r",
      " 59%|█████▉    | 6207/10500 [00:00<00:00, 6528.34it/s]\r",
      " 66%|██████▌   | 6917/10500 [00:01<00:00, 6688.17it/s]\r",
      " 73%|███████▎  | 7713/10500 [00:01<00:00, 7023.99it/s]\r",
      " 81%|████████  | 8501/10500 [00:01<00:00, 7259.94it/s]\r",
      " 88%|████████▊ | 9224/10500 [00:01<00:00, 7063.78it/s]\r",
      " 95%|█████████▌| 10004/10500 [00:01<00:00, 7269.13it/s]\r",
      "100%|██████████| 10500/10500 [00:01<00:00, 7129.67it/s]\n"
     ]
    }
   ],
   "source": [
    "from pymc3 import DiscreteUniform, Model, sample\n",
    "\n",
    "with Model():\n",
    "    n_tanks = DiscreteUniform('n_tanks', lower=max(captured_tanks), upper=5000)\n",
    "    obs = DiscreteUniform('obs', lower=0, upper=n_tanks, observed=captured_tanks) \n",
    "    trace = sample(10000)"
   ]
  },
  {
   "cell_type": "markdown",
   "metadata": {},
   "source": [
    " >>> If you go back in this notebook and add more tanks to captured_tanks, the speed difference becomes even starker"
   ]
  },
  {
   "cell_type": "code",
   "execution_count": 19,
   "metadata": {
    "collapsed": true
   },
   "outputs": [
    {
     "data": {
      "image/png": "[encoded data removed]",
      "text/plain": [
       "<matplotlib.figure.Figure at 0x7fe1cc73e6a0>"
      ]
     },
     "metadata": {},
     "output_type": "display_data"
    }
   ],
   "source": [
    "burn_in = 1000\n",
    "plt.hist(trace[burn_in:].get_values('n_tanks'), normed=True, bins=100)\n",
    "plt.plot(tank_bins, [analytic_solution(x, captured_tanks) for x in tank_bins]);"
   ]
  },
  {
   "cell_type": "markdown",
   "metadata": {},
   "source": [
    "\n",
    "> We used a uniform prior for the German tank problem. Change the function prior_ntanks_sampler to be a plausible non-uniform prior. See how that affects not only the answer but the running time of the sampler.\n",
    "\n"
   ]
  },
  {
   "cell_type": "markdown",
   "metadata": {},
   "source": [
    "> The PyMC3 solution to the German tank problem has a tiny bug. It samples with replacement, which means it can simulate the capture of two tanks that have the same serial number. Google around and figure out how to fix this."
   ]
  },
  {
   "cell_type": "markdown",
   "metadata": {},
   "source": [
    "> Copy abayes into a new notebook on your machine and see if you can solve this problem: I have five coins. They are all equally unfair, i.e. they all have the same probability p of coming up heads. I toss each coin ten times and get [5, 3, 2, 4, 3] heads. Use abayes to figure out the posterior probability distribution of p. What's the probability that p is greater than 0.5, i.e. the coin has a bias toward heads?"
   ]
  },
  {
   "cell_type": "code",
   "execution_count": null,
   "metadata": {},
   "outputs": [],
   "source": []
  },
  {
   "cell_type": "code",
   "execution_count": null,
   "metadata": {},
   "outputs": [],
   "source": []
  },
  {
   "cell_type": "markdown",
   "metadata": {},
   "source": [
    "### Doing Bayesian Data Analysis R \n",
    "\n",
    "https://www.safaribooksonline.com/library/view/doing-bayesian-data/9780123814852/"
   ]
  },
  {
   "cell_type": "markdown",
   "metadata": {},
   "source": [
    ">> Complete Notbook List\n",
    "\n",
    "https://github.com/JWarmenhoven/DBDA-python"
   ]
  },
  {
   "cell_type": "markdown",
   "metadata": {},
   "source": [
    "### markov-chain-monte-carlo-without-all-the-bullshit \n",
    "\n",
    "https://jeremykun.com/2015/04/06/markov-chain-monte-carlo-without-all-the-bullshit/"
   ]
  },
  {
   "cell_type": "code",
   "execution_count": null,
   "metadata": {},
   "outputs": [],
   "source": []
  },
  {
   "cell_type": "code",
   "execution_count": null,
   "metadata": {},
   "outputs": [],
   "source": []
  },
  {
   "cell_type": "code",
   "execution_count": null,
   "metadata": {},
   "outputs": [],
   "source": []
  }
 ],
 "metadata": {
  "kernelspec": {
   "display_name": "Python 3",
   "language": "python",
   "name": "python3"
  },
  "language_info": {
   "codemirror_mode": {
    "name": "ipython",
    "version": 3
   },
   "file_extension": ".py",
   "mimetype": "text/x-python",
   "name": "python",
   "nbconvert_exporter": "python",
   "pygments_lexer": "ipython3",
   "version": "3.6.1"
  }
 },
 "nbformat": 4,
 "nbformat_minor": 2
}
