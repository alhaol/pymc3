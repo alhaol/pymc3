{
 "cells": [
  {
   "cell_type": "markdown",
   "metadata": {},
   "source": [
<<<<<<< HEAD
    "https://www.safaribooksonline.com/oriole/probabilistic-programming-from-scratch-1-a-b-testing-with-approximate-bayesian-computation"
=======
    "* https://www.safaribooksonline.com/oriole/probabilistic-programming-from-scratch-1-a-b-testing-with-approximate-bayesian-computation\n",
    "\n",
    "* https://www.safaribooksonline.com/oriole/probabilistic-programming-from-scratch-2-bayes-theorem-and-online-learning\n",
    "\n",
    "* https://www.safaribooksonline.com/oriole/probabilistic-programming-from-scratch-3-improving-algorithmic-performance-and-online-learning\n"
>>>>>>> dca9000b7a11018e35bc558d200d62a2ec67c965
   ]
  },
  {
   "cell_type": "markdown",
   "metadata": {},
   "source": [
<<<<<<< HEAD
    "https://www.safaribooksonline.com/oriole/probabilistic-programming-from-scratch-2-bayes-theorem-and-online-learning"
=======
    "#### Probabilistic Programming from Scratch 1: A/B Testing with Uncertaint"
>>>>>>> dca9000b7a11018e35bc558d200d62a2ec67c965
   ]
  },
  {
   "cell_type": "markdown",
   "metadata": {},
   "source": [
<<<<<<< HEAD
    "https://www.safaribooksonline.com/oriole/probabilistic-programming-from-scratch-3-improving-algorithmic-performance-and-online-learning"
   ]
  },
  {
   "cell_type": "code",
   "execution_count": null,
   "metadata": {},
   "outputs": [],
   "source": []
  },
  {
   "cell_type": "code",
   "execution_count": 1,
=======
    "- A particular approach to inference, known as Bayesianism. This approach is attractive for a number of reasons. Here are three of them, each of which we'll see in action:\n",
    "\n",
    "    * quantify the probability of all possibilities, and therefore measure risk\n",
    "    * insert institutional knowledge\n",
    "    * learn in an online fashion"
   ]
  },
  {
   "cell_type": "markdown",
   "metadata": {},
   "source": [
    "Let's consider a concrete data analysis problem: an A/B test. **Our goal is to determine if layout A is better than layout B**. Better is defined in terms of \"conversion\": the fraction of visitors registered or signed up. Say 4% of visitors shown layout A convert, and 5% of layout B convert. Clearly, layout B is better, right?"
   ]
  },
  {
   "cell_type": "code",
   "execution_count": 3,
>>>>>>> dca9000b7a11018e35bc558d200d62a2ec67c965
   "metadata": {},
   "outputs": [],
   "source": [
    "n_visitors_a = 100  # number of visitors shown layout A\n",
    "n_conv_a = 4        # number of vistors shown layout A who converted (4%)\n",
    "\n",
    "n_visitors_b = 40  \n",
    "n_conv_b = 2"
   ]
  },
  {
<<<<<<< HEAD
   "cell_type": "code",
   "execution_count": 2,
   "metadata": {},
   "outputs": [],
   "source": [
    "def estimate_conversion(n_visitors, n_conv, trial_conversion, n_estimates=5000):\n",
    "    '''\n",
    "    Return n_estimates estimates of the conversion fraction of a layout that \n",
    "    received n_visitors, n_conv of which converted.\n",
    "    '''\n",
    "    i = 0\n",
    "    estimates = []\n",
    "    while i < n_estimates:\n",
    "        p = trial_conversion()\n",
    "        n_sim = simulate_conversion(p, n_visitors)\n",
    "        if n_conv == n_sim:\n",
    "            estimates.append(p)\n",
    "            i += 1\n",
    "    return estimates"
=======
   "cell_type": "markdown",
   "metadata": {},
   "source": [
    "This is a classic example of incomplete data. We can't run the A/B test forever. What we'd like to do is quantify how confident we are that layout B is better, as a probability, given the slice of data we do have"
   ]
  },
  {
   "cell_type": "markdown",
   "metadata": {},
   "source": [
    "To do that we're going to use Approximate **Bayesian Computation**. Here's the entire algorithm:\n",
    "\n",
    "* generate a trial value for the thing we want to know (in this case it's the **conversion** fraction of a layout)\n",
    "* simulate our data assuming the trial value\n",
    "* if the simulation looks like the real data, keep the trial value, otherwise discard it and try again\n",
    "* keep doing this until we've got lots of trial values that worked"
   ]
  },
  {
   "cell_type": "markdown",
   "metadata": {},
   "source": [
    "If we follow this recipe, the collection of **trial values** that worked are actually samples from a probability distribution that represents our belief about the conversion fraction. We'll get into what this means mathematically later, but for now we'll simply say: if there are lots of good trial samples near a particular number, we're more confident that that number is correct.\n",
    "\n",
    "Let's see this algorithm in code before we fill in the blanks by writing a little function for each step."
>>>>>>> dca9000b7a11018e35bc558d200d62a2ec67c965
   ]
  },
  {
   "cell_type": "code",
<<<<<<< HEAD
   "execution_count": 3,
=======
   "execution_count": 5,
>>>>>>> dca9000b7a11018e35bc558d200d62a2ec67c965
   "metadata": {},
   "outputs": [
    {
     "data": {
      "text/plain": [
<<<<<<< HEAD
       "0.6419800770978091"
      ]
     },
     "execution_count": 3,
=======
       "0.38780353706598636"
      ]
     },
     "execution_count": 5,
>>>>>>> dca9000b7a11018e35bc558d200d62a2ec67c965
     "metadata": {},
     "output_type": "execute_result"
    }
   ],
   "source": [
    "import random\n",
    "\n",
    "def trial_conversion_a():\n",
    "    '''Return a random number in interval (0, 1).'''\n",
    "    return random.random()\n",
    "\n",
    "trial_conversion_a()"
   ]
  },
  {
   "cell_type": "code",
<<<<<<< HEAD
   "execution_count": 4,
=======
   "execution_count": 6,
   "metadata": {},
   "outputs": [
    {
     "data": {
      "text/plain": [
       "0.7418529052380358"
      ]
     },
     "execution_count": 6,
     "metadata": {},
     "output_type": "execute_result"
    }
   ],
   "source": [
    "\n",
    "import random\n",
    "\n",
    "def trial_conversion_a():\n",
    "    '''Return a random number in interval (0, 1).'''\n",
    "    return random.random()\n",
    "\n",
    "trial_conversion_a()\n"
   ]
  },
  {
   "cell_type": "code",
   "execution_count": 7,
>>>>>>> dca9000b7a11018e35bc558d200d62a2ec67c965
   "metadata": {},
   "outputs": [
    {
     "data": {
      "text/plain": [
<<<<<<< HEAD
       "5"
      ]
     },
     "execution_count": 4,
=======
       "4"
      ]
     },
     "execution_count": 7,
>>>>>>> dca9000b7a11018e35bc558d200d62a2ec67c965
     "metadata": {},
     "output_type": "execute_result"
    }
   ],
   "source": [
    "def simulate_conversion(p, n_visitors):\n",
    "    '''Returns number of vistors who convert given conversion fraction p.'''\n",
    "    outcomes = [random.random() < p  for _ in range(n_visitors)]\n",
    "    return sum(outcomes)\n",
    "\n",
    "simulate_conversion(0.5, 10)"
   ]
  },
  {
   "cell_type": "code",
<<<<<<< HEAD
   "execution_count": 5,
=======
   "execution_count": 4,
   "metadata": {},
   "outputs": [],
   "source": [
    "def estimate_conversion(n_visitors, n_conv, trial_conversion, n_estimates=5000):\n",
    "    '''\n",
    "    Return n_estimates estimates of the conversion fraction of a layout that \n",
    "    received n_visitors, n_conv of which converted.\n",
    "    '''\n",
    "    i = 0\n",
    "    estimates = []\n",
    "    while i < n_estimates:\n",
    "        p = trial_conversion()\n",
    "        n_sim = simulate_conversion(p, n_visitors)\n",
    "        if n_conv == n_sim:\n",
    "            estimates.append(p)\n",
    "            i += 1\n",
    "    return estimates"
   ]
  },
  {
   "cell_type": "markdown",
   "metadata": {},
   "source": [
    "This function is simply the algorithm translated into Python. It takes the number of visitors that were shown the layout, the number of those who converted, a function to generate trial conversion fractions, and an optional keyword n_estimates, which tells it how many simulations need to match the observations before it can stop.\n",
    "\n",
    "There's a counter i and a while loop in there to ensure we get n_estimates.\n",
    "\n",
    "The loop itself uses a function trialconversion_a, which we haven't written yet, to generate a trial value of the conversion fraction for layout A.\n",
    "\n",
    "It then assumes the trial value is correct; and runs a simulation of n_visitors visiting the layout under this assumption. The simulateconversion function, which again, we haven't written yet, returns a number, the number of visitors who converted in the simulation n_sim.\n",
    "\n",
    "Finally, if n_sim matches n_conv, i.e. if the simulation and reality are identical, then we know p was a good guess of the conversion fraction, and we add it to estimates, our list of good guesses.\n",
    "\n",
    "These steps have fancy mathematical names that we'll get into later, but for now let's write the two functions we need to implement for this function to work.\n",
    "\n",
    "First, we need trialconversion_a, which returns a trial value for the conversion fraction for layout A. Let's suppose layout A is brand new. We know nothing about it, except its conversion fraction has to be between 0 and 1. Python has a built-in function to generate such numbers."
   ]
  },
  {
   "cell_type": "code",
   "execution_count": 8,
>>>>>>> dca9000b7a11018e35bc558d200d62a2ec67c965
   "metadata": {},
   "outputs": [
    {
     "data": {
      "text/plain": [
       "5000"
      ]
     },
<<<<<<< HEAD
     "execution_count": 5,
=======
     "execution_count": 8,
>>>>>>> dca9000b7a11018e35bc558d200d62a2ec67c965
     "metadata": {},
     "output_type": "execute_result"
    }
   ],
   "source": [
    "a_estimates = estimate_conversion(n_visitors_a, n_conv_a, trial_conversion_a)\n",
    "len(a_estimates)"
   ]
  },
  {
   "cell_type": "code",
<<<<<<< HEAD
   "execution_count": 6,
=======
   "execution_count": 9,
>>>>>>> dca9000b7a11018e35bc558d200d62a2ec67c965
   "metadata": {},
   "outputs": [
    {
     "data": {
<<<<<<< HEAD
      "image/png": "iVBORw0KGgoAAAANSUhEUgAAAX4AAAEICAYAAABYoZ8gAAAABHNCSVQICAgIfAhkiAAAAAlwSFlz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\nAABJRU5ErkJggg==\n",
      "text/plain": [
       "<matplotlib.figure.Figure at 0x106c452e8>"
=======
      "image/png": "iVBORw0KGgoAAAANSUhEUgAAAX4AAAEICAYAAABYoZ8gAAAABHNCSVQICAgIfAhkiAAAAAlwSFlz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\n",
      "text/plain": [
       "<matplotlib.figure.Figure at 0x1c33bc3a400>"
>>>>>>> dca9000b7a11018e35bc558d200d62a2ec67c965
      ]
     },
     "metadata": {},
     "output_type": "display_data"
    }
   ],
   "source": [
    "%matplotlib inline\n",
    "import matplotlib.pyplot as plt\n",
    "abbins = [i/200.0 for i in range(50)]  # 50 bins between 0 and 0.25\n",
    "\n",
    "plt.hist(a_estimates, bins=abbins, normed=True)\n",
    "plt.title('Estimates of conversion fraction for A after the A/B test');"
   ]
  },
  {
   "cell_type": "code",
<<<<<<< HEAD
   "execution_count": 7,
=======
   "execution_count": 10,
>>>>>>> dca9000b7a11018e35bc558d200d62a2ec67c965
   "metadata": {},
   "outputs": [
    {
     "data": {
      "text/plain": [
<<<<<<< HEAD
       "0.06168958908094295"
      ]
     },
     "execution_count": 7,
=======
       "0.027994447333472408"
      ]
     },
     "execution_count": 10,
>>>>>>> dca9000b7a11018e35bc558d200d62a2ec67c965
     "metadata": {},
     "output_type": "execute_result"
    }
   ],
   "source": [
    "def trial_conversion_b():\n",
    "    '''Return a random number around 0.06+/-0.02.'''\n",
    "    while True:\n",
    "        x = random.normalvariate(mu=0.06, sigma=0.02)\n",
    "        if 0 <= x <= 1:\n",
    "            return x\n",
    "\n",
    "trial_conversion_b()"
   ]
  },
  {
   "cell_type": "code",
<<<<<<< HEAD
   "execution_count": 8,
=======
   "execution_count": 11,
>>>>>>> dca9000b7a11018e35bc558d200d62a2ec67c965
   "metadata": {},
   "outputs": [
    {
     "data": {
<<<<<<< HEAD
      "image/png": "iVBORw0KGgoAAAANSUhEUgAAAX4AAAEICAYAAABYoZ8gAAAABHNCSVQICAgIfAhkiAAAAAlwSFlz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\nSUVORK5CYII=\n",
      "text/plain": [
       "<matplotlib.figure.Figure at 0x1070d7748>"
=======
      "image/png": "iVBORw0KGgoAAAANSUhEUgAAAX4AAAEICAYAAABYoZ8gAAAABHNCSVQICAgIfAhkiAAAAAlwSFlz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\nA7+ZWcn8f0+IRN6PpEz/AAAAAElFTkSuQmCC\n",
      "text/plain": [
       "<matplotlib.figure.Figure at 0x1c33ad418d0>"
>>>>>>> dca9000b7a11018e35bc558d200d62a2ec67c965
      ]
     },
     "metadata": {},
     "output_type": "display_data"
    }
   ],
   "source": [
    "trial_as = [trial_conversion_a() for _ in range(100000)]\n",
    "trial_bs = [trial_conversion_b() for _ in range(100000)]\n",
    "\n",
    "plt.hist(trial_as, bins=abbins, label='A', normed=True)\n",
    "plt.hist(trial_bs, bins=abbins, label='B', alpha=0.5, normed=True)\n",
    "plt.title('Beliefs about conversion fraction prior to A/B test')\n",
    "plt.legend();"
   ]
  },
  {
   "cell_type": "code",
<<<<<<< HEAD
   "execution_count": 9,
=======
   "execution_count": 12,
>>>>>>> dca9000b7a11018e35bc558d200d62a2ec67c965
   "metadata": {},
   "outputs": [
    {
     "data": {
<<<<<<< HEAD
      "image/png": "iVBORw0KGgoAAAANSUhEUgAAAXQAAAEICAYAAABPgw/pAAAABHNCSVQICAgIfAhkiAAAAAlwSFlz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\nSSrE/wecOEVJ4azL8gAAAABJRU5ErkJggg==\n",
      "text/plain": [
       "<matplotlib.figure.Figure at 0x1057cd7b8>"
=======
      "image/png": "iVBORw0KGgoAAAANSUhEUgAAAXQAAAEICAYAAABPgw/pAAAABHNCSVQICAgIfAhkiAAAAAlwSFlz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\npEqY0CWpEv8O081bisoxTbUAAAAASUVORK5CYII=\n",
      "text/plain": [
       "<matplotlib.figure.Figure at 0x1c33c991be0>"
>>>>>>> dca9000b7a11018e35bc558d200d62a2ec67c965
      ]
     },
     "metadata": {},
     "output_type": "display_data"
    }
   ],
   "source": [
    "b_estimates = estimate_conversion(n_visitors_b, n_conv_b, trial_conversion_b)\n",
    "plt.hist(a_estimates, bins=abbins, label='A', normed=True)\n",
    "plt.hist(b_estimates, bins=abbins, label='B', alpha=0.5, normed=True)\n",
    "plt.title('Estimates of conversion fraction after the A/B test')\n",
    "plt.legend();"
   ]
  },
  {
   "cell_type": "code",
<<<<<<< HEAD
   "execution_count": 10,
=======
   "execution_count": 13,
>>>>>>> dca9000b7a11018e35bc558d200d62a2ec67c965
   "metadata": {},
   "outputs": [],
   "source": [
    "b_better = [b > a for a, b in zip(a_estimates, b_estimates)]"
   ]
  },
  {
   "cell_type": "code",
<<<<<<< HEAD
   "execution_count": 13,
=======
   "execution_count": 14,
>>>>>>> dca9000b7a11018e35bc558d200d62a2ec67c965
   "metadata": {},
   "outputs": [
    {
     "name": "stdout",
     "output_type": "stream",
     "text": [
<<<<<<< HEAD
      "0.654\n"
=======
      "[True, False, False, True, True, False, True, False, True, True]\n"
>>>>>>> dca9000b7a11018e35bc558d200d62a2ec67c965
     ]
    }
   ],
   "source": [
<<<<<<< HEAD
    "### Given the data and our prior beliefs, this is exactly how sure we are that layout B is better, as a probability.\n",
    "print(sum(b_better)/len(b_better))"
   ]
  },
  {
   "cell_type": "markdown",
   "metadata": {},
   "source": [
    "You can use a_estimates and b_estimates to answer some arbitrary questions. Go back and change the code in the last couple of cells and figure out the probability that the conversion fraction of layout A is greater than 6%?\n",
    "\n",
    "You'll need to build a new list like b_better that is True for each item in a_estimates that is greater than 6%, then figure out what fraction of the time that is true.\n",
    "\n",
    "Here's another question. Let's say we'll only bother to switch to layout B if it's at least 1% better than layout A. What's the probability this is true?\n",
    "\n",
    "Now, about those prior beliefs. The middle of the distribution of b_estimates is actually a little closer to 0.06, the value favored by the prior than to 0.05, the value favored by the data.\n",
    "\n",
    "First, measure exactly how much closer by determining the mean of that list.\n",
    "\n",
    "See if you can figure out why it's closer to the value favored by the prior than that favored by the data? Here's a clue: what happens if you increase the number of visitors who see layout B by a factor of say 10 (and the number who convert by the same factor)?"
=======
    "print(b_better[:10])"
>>>>>>> dca9000b7a11018e35bc558d200d62a2ec67c965
   ]
  },
  {
   "cell_type": "code",
   "execution_count": null,
   "metadata": {},
   "outputs": [],
   "source": []
  }
 ],
 "metadata": {
  "kernelspec": {
   "display_name": "Python 3",
   "language": "python",
   "name": "python3"
  },
  "language_info": {
   "codemirror_mode": {
    "name": "ipython",
    "version": 3
   },
   "file_extension": ".py",
   "mimetype": "text/x-python",
   "name": "python",
   "nbconvert_exporter": "python",
   "pygments_lexer": "ipython3",
<<<<<<< HEAD
   "version": "3.6.1"
=======
   "version": "3.6.2"
>>>>>>> dca9000b7a11018e35bc558d200d62a2ec67c965
  }
 },
 "nbformat": 4,
 "nbformat_minor": 2
}
