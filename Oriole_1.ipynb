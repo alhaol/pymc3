{
 "cells": [
  {
   "cell_type": "markdown",
   "metadata": {},
   "source": [
    " ## Bayesianism"
   ]
  },
  {
   "cell_type": "markdown",
   "metadata": {},
   "source": [
    "- quantify the probability of all possibilities, and therefore measure risk\n",
    "- insert institutional knowledge\n",
    "- learn in an online fashion"
   ]
  },
  {
   "cell_type": "code",
   "execution_count": null,
   "metadata": {},
   "outputs": [],
   "source": []
  },
  {
   "cell_type": "markdown",
   "metadata": {},
   "source": [
    "#### Approximate Bayesian Computation. Here's the entire algorithm:\n",
    "\n",
    "- generate a trial value for the thing we want to know (in this case it's the conversion fraction of a layout)\n",
    "- simulate our data assuming the trial value\n",
    "- if the simulation looks like the real data, keep the trial value, otherwise discard it and try again\n",
    "- keep doing this until we've got lots of trial values that worked"
   ]
  },
  {
   "cell_type": "code",
   "execution_count": 42,
   "metadata": {},
   "outputs": [
    {
     "data": {
      "text/plain": [
       "0.4700196426436586"
      ]
     },
     "execution_count": 42,
     "metadata": {},
     "output_type": "execute_result"
    }
   ],
   "source": [
    "import random\n",
    "\n",
    "def trial_conversion_a():\n",
    "    '''Return a random number in interval (0, 1).'''\n",
    "    return random.random()\n",
    "\n",
    "trial_conversion_a()"
   ]
  },
  {
   "cell_type": "code",
   "execution_count": 43,
   "metadata": {},
   "outputs": [
    {
     "data": {
      "text/plain": [
       "4"
      ]
     },
     "execution_count": 43,
     "metadata": {},
     "output_type": "execute_result"
    }
   ],
   "source": [
    "def simulate_conversion(p, n_visitors):\n",
    "    '''Returns number of vistors who convert given conversion fraction p.'''\n",
    "    outcomes = [random.random() < p  for _ in range(n_visitors)]\n",
    "    return sum(outcomes)\n",
    "\n",
    "simulate_conversion(0.5, 10)"
   ]
  },
  {
   "cell_type": "code",
   "execution_count": 44,
   "metadata": {},
   "outputs": [],
   "source": [
    "def estimate_conversion(n_visitors, n_conv, trial_conversion, n_estimates=5000):\n",
    "    '''\n",
    "    Return n_estimates estimates of the conversion fraction of a layout that \n",
    "    received n_visitors, n_conv of which converted.\n",
    "    '''\n",
    "    i = 0\n",
    "    estimates = []\n",
    "    while i < n_estimates:\n",
    "        p = trial_conversion()\n",
    "        n_sim = simulate_conversion(p, n_visitors)\n",
    "        if n_conv == n_sim:\n",
    "            estimates.append(p)\n",
    "            i += 1\n",
    "    return estimates"
   ]
  },
  {
   "cell_type": "code",
   "execution_count": 45,
   "metadata": {},
   "outputs": [
    {
     "data": {
      "text/plain": [
       "5000"
      ]
     },
     "execution_count": 45,
     "metadata": {},
     "output_type": "execute_result"
    }
   ],
   "source": [
    "n_visitors_a = 100  # number of visitors shown layout A\n",
    "n_conv_a = 4        # number of vistors shown layout A who converted (4%)\n",
    "\n",
    "n_visitors_b = 40  \n",
    "n_conv_b = 2\n",
    "\n",
    "a_estimates = estimate_conversion(n_visitors_a, n_conv_a, trial_conversion_a)\n",
    "len(a_estimates)"
   ]
  },
  {
   "cell_type": "code",
   "execution_count": 46,
   "metadata": {},
   "outputs": [
    {
     "data": {
      "image/png": "[encoded data removed]",
      "text/plain": [
       "<matplotlib.figure.Figure at 0x112202208>"
      ]
     },
     "metadata": {},
     "output_type": "display_data"
    }
   ],
   "source": [
    "%matplotlib inline\n",
    "import matplotlib.pyplot as plt\n",
    "abbins = [i/200.0 for i in range(50)]  # 50 bins between 0 and 0.25\n",
    "\n",
    "plt.hist(a_estimates, bins=abbins, normed=True)\n",
    "plt.title('Estimates of conversion fraction for A after the A/B test');"
   ]
  },
  {
   "cell_type": "code",
   "execution_count": 97,
   "metadata": {},
   "outputs": [
    {
     "data": {
      "text/plain": [
       "0.06549833933390767"
      ]
     },
     "execution_count": 97,
     "metadata": {},
     "output_type": "execute_result"
    }
   ],
   "source": [
    "def trial_conversion_b():\n",
    "    '''Return a random number around 0.06+/-0.02.'''\n",
    "    while True:\n",
    "        x = random.normalvariate(mu=0.06, sigma=0.02)\n",
    "        if 0 <= x <= 1:\n",
    "            return x\n",
    "\n",
    "trial_conversion_b()"
   ]
  },
  {
   "cell_type": "code",
   "execution_count": 98,
   "metadata": {},
   "outputs": [
    {
     "data": {
      "image/png": "[encoded data removed]",
      "text/plain": [
       "<matplotlib.figure.Figure at 0x111867d68>"
      ]
     },
     "metadata": {},
     "output_type": "display_data"
    }
   ],
   "source": [
    "trial_as = [trial_conversion_a() for _ in range(100000)]\n",
    "trial_bs = [trial_conversion_b() for _ in range(100000)]\n",
    "\n",
    "plt.hist(trial_as, bins=abbins, label='A', normed=True)\n",
    "plt.hist(trial_bs, bins=abbins, label='B', alpha=0.5, normed=True)\n",
    "plt.title('Beliefs about conversion fraction prior to A/B test')\n",
    "plt.legend();"
   ]
  },
  {
   "cell_type": "code",
   "execution_count": 103,
   "metadata": {},
   "outputs": [
    {
     "data": {
      "image/png": "[encoded data removed]",
      "text/plain": [
       "<matplotlib.figure.Figure at 0x1127e2358>"
      ]
     },
     "metadata": {},
     "output_type": "display_data"
    }
   ],
   "source": [
    "b_estimates = estimate_conversion(n_visitors_b, n_conv_b, trial_conversion_b)\n",
    "plt.hist(a_estimates, bins=abbins, label='A', normed=True)\n",
    "plt.hist(b_estimates, bins=abbins, label='B', alpha=0.5, normed=True)\n",
    "plt.title('Estimates of conversion fraction after the A/B test')\n",
    "plt.legend();"
   ]
  },
  {
   "cell_type": "code",
   "execution_count": null,
   "metadata": {},
   "outputs": [],
   "source": []
  },
  {
   "cell_type": "markdown",
   "metadata": {},
   "source": [
    "### THE ANSWER TO THE A/B TEST\n"
   ]
  },
  {
   "cell_type": "code",
   "execution_count": 104,
   "metadata": {},
   "outputs": [
    {
     "name": "stdout",
     "output_type": "stream",
     "text": [
      "\n",
      "\n",
      "Our confidence that B is better than A = 0.655 \n",
      "\n"
     ]
    }
   ],
   "source": [
    "b_better = [b > a for a, b in zip(a_estimates, b_estimates)]\n",
    "#print(b_better[:10])\n",
    "print(\"\\n\\nOur confidence that B is better than A = {} \\n\"\\\n",
    "      .format(sum(b_better)/len(b_better)))"
   ]
  },
  {
   "cell_type": "markdown",
   "metadata": {},
   "source": [
    ">If layout B would cost us $1m, perhaps this is not confident enough to risk the change. In that case, we'd run the A/B test for longer, and hopefully become more confident."
   ]
  },
  {
   "cell_type": "markdown",
   "metadata": {},
   "source": [
    "\n",
    "\n",
    ">You can use a_estimates and b_estimates to answer some arbitrary questions. Go back and change the code in the last couple of cells and figure out the probability that the conversion fraction of layout A is greater than 6%?"
   ]
  },
  {
   "cell_type": "code",
   "execution_count": 105,
   "metadata": {},
   "outputs": [
    {
     "data": {
      "text/plain": [
       "0.2674"
      ]
     },
     "execution_count": 105,
     "metadata": {},
     "output_type": "execute_result"
    }
   ],
   "source": [
    "#  The probability that the conversion fraction \n",
    "#   of layout A is greater than 6%?\n",
    "sum([i>0.06 for i in a_estimates])/len(a_estimates)"
   ]
  },
  {
   "cell_type": "markdown",
   "metadata": {},
   "source": [
    "> Here's another question. Let's say we'll only bother to switch to layout B if it's at least 1% better than layout A. What's the probability this is true?\n",
    "\n"
   ]
  },
  {
   "cell_type": "code",
   "execution_count": 106,
   "metadata": {},
   "outputs": [
    {
     "data": {
      "text/plain": [
       "0.6492"
      ]
     },
     "execution_count": 106,
     "metadata": {},
     "output_type": "execute_result"
    }
   ],
   "source": [
    "\n",
    "switch_b= [(b-a)/a >=.01 for a, b in zip(a_estimates, b_estimates)]\n",
    "sum(switch_b)/len(a_estimates)"
   ]
  },
  {
   "cell_type": "markdown",
   "metadata": {},
   "source": [
    "> Now, about those prior beliefs. The middle of the distribution of b_estimates is actually a little closer to 0.06, the value favored by the prior than to 0.05, the value favored by the data.\n",
    "\n",
    ">>First, measure exactly how much closer by determining the mean of that list.\n",
    "\n",
    ">>>See if you can figure out why it's closer to the value favored by the prior than that favored by the data? Here's a clue: what happens if you increase the number of visitors who see layout B by a factor of say 10 (and the number who convert by the same factor)?"
   ]
  },
  {
   "cell_type": "code",
   "execution_count": 112,
   "metadata": {},
   "outputs": [
    {
     "data": {
      "text/plain": [
       "0.053647647158831115"
      ]
     },
     "execution_count": 112,
     "metadata": {},
     "output_type": "execute_result"
    }
   ],
   "source": [
    "n_visitors_b = 40*10\n",
    "n_conv_b = 2*10\n",
    "n_visitors_b, n_conv_b= n_visitors_b*1, n_conv_b*1\n",
    "b_estimates = estimate_conversion(n_visitors_b, n_conv_b, trial_conversion_b)\n",
    "\n",
    "import numpy as np\n",
    "np.mean(b_estimates)"
   ]
  },
  {
   "cell_type": "code",
   "execution_count": null,
   "metadata": {},
   "outputs": [],
   "source": []
  }
 ],
 "metadata": {
  "kernelspec": {
   "display_name": "Python 3",
   "language": "python",
   "name": "python3"
  },
  "language_info": {
   "codemirror_mode": {
    "name": "ipython",
    "version": 3
   },
   "file_extension": ".py",
   "mimetype": "text/x-python",
   "name": "python",
   "nbconvert_exporter": "python",
   "pygments_lexer": "ipython3",
   "version": "3.6.1"
  }
 },
 "nbformat": 4,
 "nbformat_minor": 2
}
