{
 "cells": [
  {
   "cell_type": "markdown",
   "metadata": {
    "slideshow": {
     "slide_type": "slide"
    }
   },
   "source": [
    "__[Link to Orioles 2](https://www.safaribooksonline.com/oriole/probabilistic-programming-from-scratch-2-bayes-theorem-and-online-learning)__"
   ]
  },
  {
   "cell_type": "markdown",
   "metadata": {},
   "source": [
    "### Approximate Bayesian Computation (ABC) "
   ]
  },
  {
   "cell_type": "markdown",
   "metadata": {},
   "source": [
    "- Understand in detail how the **ABC** algorithm relates to **Bayes' Theorem**\n",
    "- Hear some straight talk about the gnashing of teeth around priors\n",
    "- Learn how reimplementing ABC w/idiomatic Python + many generators = better code\n",
    "- Watch how the reimplemented system handles data in the online setting"
   ]
  },
  {
   "cell_type": "markdown",
   "metadata": {},
   "source": [
    "#### BAYES' THEOREM\n",
    "\n",
    "$$Pr(H|D)∝Pr(H)Pr(D|H)$$\n",
    "\n",
    "* Our beliefs before the experiment (Pr(H)), the **prior** $$ Pr(H) $$\n",
    "* Our beliefs after an experiment (that's Pr(H|D)), the **posterior**  $$  Pr(H|D)$$\n",
    "* And the data is consistent with those beliefs (Pr(D|H)), the **likelihood** $$Pr(D|H)$$\n",
    "\n",
    ">**H** is a particular hypothesis. In the context of an **A/B test**, that might be a particular belief about the conversion fraction; so \"layout A's conversion fraction is 2.42%\" is a hypothesis. And D is the data, i.e. the results of our A/B test."
   ]
  },
  {
   "cell_type": "markdown",
   "metadata": {},
   "source": [
    " The prior\n",
    "=====\n",
    ">Let's start on the right. Pr(H) is the probability a hypothesis was true before you conducted the experiment, is the prior probability. In ABC, that directly correspondes to the function that generates trial values.\n",
    "\n",
    "The likelihood\n",
    "=============\n",
    "\n",
    ">Pr(D|H), the probability that you would get the observed data if the hypothesis were true, is the likelihood. If you take the formal mathematical approach to Bayesian inference, this is a tricky thing to evaluate exactly. In ABC we avoid all the complexity by simply running simulations and rejecting ones that didn't work out. But the idea is the same.\n",
    "\n",
    "The posterior\n",
    "==\n",
    "\n",
    ">On the left, we've got the end game of all this. P(H|D) is the probability a hypothesis is true given the data. This is properly known as posterior probability. Generally speaking, this is the thing you need to know! It's what your beliefs about the world are after the experiment. It's the thing you use to answer a question like \"should I switch from layout A to layout B?"
   ]
  },
  {
   "cell_type": "markdown",
   "metadata": {},
   "source": [
    "<div class=\"alert alert-block alert-success\"> REIMPLEMENTING ABC WITH GENERATORS </div>\n",
    "\n",
    ">ABC in a more idiomatically Pythonic and functional style"
   ]
  },
  {
   "cell_type": "code",
   "execution_count": 60,
   "metadata": {
    "collapsed": true
   },
   "outputs": [],
   "source": [
    "def abayes(data, prior_sampler, simulate, compare):\n",
    "    '''Yield samples from the posterior by Approximate Bayesian Computation.'''\n",
    "    for p in prior_sampler:\n",
    "        if compare(simulate(p), data):\n",
    "            yield p"
   ]
  },
  {
   "cell_type": "markdown",
   "metadata": {},
   "source": [
    "__data__ \n",
    "> is the observation. This is the thing we're going to compare the outcome of the simulation to (remember the ABC algorithm).\n",
    "\n",
    "__prior_sampler__\n",
    ">is more complicated than it might at first look, but it's basically a sequence of trial values, or samples from the prior distribution of our beliefs.\n",
    "\n",
    "__simulate__\n",
    "> is the <u>callable function </u> that is used to simulate the experiment; \n",
    "\n",
    "__compare__\n",
    "> is the callable function that will compare the simulated outcome to the data.\n",
    "\n",
    "__abayes__ works by iterating over the prior samples, and running compare on the output of simulate and the data. If they agree, it _yield_s the prior sample.\n",
    "\n",
    "__prior_sampler__ is a generator, and the yield statement tells you __abayes__ itself is also a generator.\n",
    "\n",
    ">>A __generator__ is in essence an ordered sequence, like a list, but with two crucial differences. Firstly, a generator yields up items one at a time. For large sequences, or for pipelines with lots of intermediate steps, this is an important advantage. Secondly, their length is undetermined. They can potentially yield up items forever.\n",
    "\n",
    "__prior_sampler__ needs to be a generator that yields up a stream of trial values of the thing we want to know. It has prior in the name because that's what it is: a function that samples from the prior distribution Pr(H) that we mentioned\n",
    "above.\n",
    "\n",
    "The for loop in __abayes__ iterates over the __prior_sampler__, running the ABC algorithm (simulate the observation, compare it to the real thing) and yields each prior sample that works out. These are samples from the posterior, so another name for the abayes generator could be __posterior_sampler__."
   ]
  },
  {
   "cell_type": "code",
   "execution_count": 61,
   "metadata": {},
   "outputs": [],
   "source": [
    "n_visitors_a = 100  # number of visitors shown layout A\n",
    "n_conv_a = 4        # number of vistors shown layout A who converted (4%)\n",
    "\n",
    "n_visitors_b = 40  \n",
    "n_conv_b = 2"
   ]
  },
  {
   "cell_type": "code",
   "execution_count": 62,
   "metadata": {},
   "outputs": [
    {
     "data": {
      "text/plain": [
       "(True, False)"
      ]
     },
     "execution_count": 62,
     "metadata": {},
     "output_type": "execute_result"
    }
   ],
   "source": [
    "def compare_conversion(sim, obs):\n",
    "    '''Return True if two observations are the same.'''\n",
    "    return sim == obs\n",
    "\n",
    "compare_conversion(42, 42),compare_conversion(42, 99)"
   ]
  },
  {
   "cell_type": "code",
   "execution_count": 63,
   "metadata": {},
   "outputs": [],
   "source": [
    "import random\n",
    "\n",
    "def simulate_conversion(p, n_visitors):\n",
    "    '''Returns number of vistors who convert given conversion fraction p.'''\n",
    "    # This used to be \"outcomes = [random.random() < p for _ in range(nvisitors)]\"\n",
    "    outcomes = (random.random() < p for _ in range(n_visitors))\n",
    "    return sum(outcomes)"
   ]
  },
  {
   "cell_type": "markdown",
   "metadata": {},
   "source": [
    "> By using parentheses instead of square brackets we've made a generator comprehension. \n",
    ">> before sum is called, none of the calls to random.random have happend yet. outcomes is pregnant with possibility, but until we consume the generator, none of the work is done. This is __lazy evaluation__."
   ]
  },
  {
   "cell_type": "code",
   "execution_count": 64,
   "metadata": {},
   "outputs": [],
   "source": [
    "def uniform_prior_sampler():\n",
    "    '''Yield random numbers in interval (0, 1).'''\n",
    "    while True:\n",
    "        yield random.random()"
   ]
  },
  {
   "cell_type": "markdown",
   "metadata": {},
   "source": [
    "> __prior_sampler__\n",
    ">> uniform prior for layout A --> no idea what it's conversion fraction is, so we'll try anything from 0 to 1 --> generator that returns a potentially infinite stream of trial values."
   ]
  },
  {
   "cell_type": "markdown",
   "metadata": {},
   "source": [
    "> What if we want to take a look at a few values? We have at least a couple of options. We can call next to get the next value."
   ]
  },
  {
   "cell_type": "code",
   "execution_count": 65,
   "metadata": {},
   "outputs": [
    {
     "name": "stdout",
     "output_type": "stream",
     "text": [
      "0.48430831170542665\n",
      "0.6470952759580175\n"
     ]
    }
   ],
   "source": [
    "gen = uniform_prior_sampler()\n",
    "print(next(gen))\n",
    "print(next(gen))"
   ]
  },
  {
   "cell_type": "markdown",
   "metadata": {},
   "source": [
    ">Or we can use __islice__ from the __itertools__ library to truncate the generator, then consume that truncated generator with list."
   ]
  },
  {
   "cell_type": "code",
   "execution_count": 66,
   "metadata": {
    "collapsed": true
   },
   "outputs": [],
   "source": [
    "import itertools\n",
    "\n",
    "def take(n, iterable):\n",
    "    \"Return first n items of the iterable as a list\"\n",
    "    return list(itertools.islice(iterable, n))"
   ]
  },
  {
   "cell_type": "code",
   "execution_count": 67,
   "metadata": {},
   "outputs": [
    {
     "data": {
      "text/plain": [
       "[0.7064239793954404, 0.9708578398432648, 0.5505580066727049]"
      ]
     },
     "execution_count": 67,
     "metadata": {},
     "output_type": "execute_result"
    }
   ],
   "source": [
    "take(3, gen)"
   ]
  },
  {
   "cell_type": "markdown",
   "metadata": {},
   "source": [
    "<div class=\"alert alert-block alert-warning\"> Now we're ready to run abayes. </div>"
   ]
  },
  {
   "cell_type": "markdown",
   "metadata": {},
   "source": [
    "```python \n",
    "\n",
    "def abayes(data, prior_sampler, simulate, compare):\n",
    "    '''Yield samples from the posterior by Approximate Bayesian Computation.'''\n",
    "    for p in prior_sampler:\n",
    "        if compare(simulate(p), data):\n",
    "            yield p\n",
    "\n",
    "```"
   ]
  },
  {
   "cell_type": "code",
   "execution_count": 69,
   "metadata": {},
   "outputs": [],
   "source": [
    "posterior_a_sampler = abayes(data=n_conv_a,prior_sampler=uniform_prior_sampler(), \n",
    "                             simulate=lambda p: simulate_conversion(p, n_visitors_a),\n",
    "                             compare=compare_conversion)"
   ]
  },
  {
   "cell_type": "markdown",
   "metadata": {},
   "source": [
    ">> Let's do that by running take on the generator. In mathematical terms, this corresponds exactly to drawing 5 samples from the posterior for layout A."
   ]
  },
  {
   "cell_type": "code",
   "execution_count": 71,
   "metadata": {
    "scrolled": true
   },
   "outputs": [
    {
     "data": {
      "text/plain": [
       "[0.07813339111028406,\n",
       " 0.10046513290855363,\n",
       " 0.03321611854418827,\n",
       " 0.015287352969589274,\n",
       " 0.041559467176755405]"
      ]
     },
     "execution_count": 71,
     "metadata": {},
     "output_type": "execute_result"
    }
   ],
   "source": [
    "take(5, posterior_a_sampler)"
   ]
  },
  {
   "cell_type": "markdown",
   "metadata": {},
   "source": [
    ">> From the posterior of layout B sampler. We have prior beliefs about layout B. Concretely, we suspect the conversion fraction is around 6% before we run the experiment; so we need a new __prior_sampler__."
   ]
  },
  {
   "cell_type": "code",
   "execution_count": 72,
   "metadata": {
    "collapsed": true
   },
   "outputs": [],
   "source": [
    "def normal_prior_sampler(mu=0.06, sigma=0.02):\n",
    "    '''Yield stream of samples from normal distribution in interval (0, 1).'''\n",
    "    while True:\n",
    "        x = random.normalvariate(mu, sigma)\n",
    "        if 0 <= x <= 1:\n",
    "            yield x"
   ]
  },
  {
   "cell_type": "markdown",
   "metadata": {},
   "source": [
    "> Note that we check that potential values are between 0 and 1. That's because we know for a logical certainty that a conversion fraction cannot be outside that range. In mathematical terms this is known as constraining the support of a distribution."
   ]
  },
  {
   "cell_type": "code",
   "execution_count": 73,
   "metadata": {
    "collapsed": true
   },
   "outputs": [],
   "source": [
    "posterior_b_sampler = abayes(\n",
    "    data=n_conv_b,\n",
    "    prior_sampler=normal_prior_sampler(),\n",
    "    simulate=lambda p: simulate_conversion(p, n_visitors_b),\n",
    "    compare=compare_conversion)"
   ]
  },
  {
   "cell_type": "markdown",
   "metadata": {},
   "source": [
    ">> Finally, let's ask for 5000 samples from each.\n",
    "\n"
   ]
  },
  {
   "cell_type": "code",
   "execution_count": 74,
   "metadata": {
    "collapsed": true
   },
   "outputs": [],
   "source": [
    "nsamples = 5000\n",
    "a_samples = take(nsamples, posterior_a_sampler)\n",
    "b_samples = take(nsamples, posterior_b_sampler)\n"
   ]
  },
  {
   "cell_type": "markdown",
   "metadata": {},
   "source": [
    "> Now let's plot the results."
   ]
  },
  {
   "cell_type": "code",
   "execution_count": 75,
   "metadata": {},
   "outputs": [
    {
     "data": {
      "image/png": "[encoded data removed]",
      "text/plain": [
       "<matplotlib.figure.Figure at 0x1c7368cfda0>"
      ]
     },
     "metadata": {},
     "output_type": "display_data"
    }
   ],
   "source": [
    "%matplotlib inline\n",
    "import matplotlib.pyplot as plt\n",
    "\n",
    "abbins = [i/200.0 for i in range(50)]  # 50 bins between 0 and 0.25\n",
    "plt.hist(a_samples, bins=abbins, label='A', normed=True)\n",
    "plt.hist(b_samples, bins=abbins, label='B', alpha=0.5, normed=True)\n",
    "plt.title('Estimates of conversion fraction after the A/B test')\n",
    "plt.legend();"
   ]
  },
  {
   "cell_type": "markdown",
   "metadata": {},
   "source": [
    "> These are the __posterior__ distributions which describe our beliefs about layout A and B. As we saw in the previous part of this series, we can use them to answer questions like \n",
    ">> \"what's the probability layout __B__ is better than layout __A__?\"."
   ]
  },
  {
   "cell_type": "code",
   "execution_count": 84,
   "metadata": {},
   "outputs": [
    {
     "name": "stdout",
     "output_type": "stream",
     "text": [
      "\n",
      " \n",
      " The Probability that Layout B is better = 0.6588 \n",
      " \n",
      "\n",
      "\n",
      " \n",
      " The Probability that Layout B 10% better than A = 0.6524 \n",
      " \n",
      "\n"
     ]
    }
   ],
   "source": [
    "b_better = [b > a for a, b in zip(a_samples, b_samples)]\n",
    "Prob=sum(b_better)/len(a_samples)\n",
    "print('\\n \\n The Probability that Layout B is better = {} \\n \\n'.format(Prob))\n",
    "\n",
    "\n",
    "switch_b= [(b-a)/a >=.01 for a, b in zip(a_samples, b_samples)]\n",
    "Prob=sum(switch_b)/len(a_samples)\n",
    "\n",
    "print('\\n \\n The Probability that Layout B 10% better than A = {} \\n \\n'.format(Prob))\n",
    "\n",
    "                  \n",
    "                  "
   ]
  },
  {
   "cell_type": "markdown",
   "metadata": {},
   "source": [
    "***\n",
    "### ONLINE LEARNING\n",
    "***"
   ]
  },
  {
   "cell_type": "markdown",
   "metadata": {},
   "source": [
    "> First, let's be explicit about what we've used ABC to do. We've turned beliefs _prior_ to an experiment into beliefs after an experiment, the _posterior_.\n",
    "\n",
    "> Bayesians sometimes say \"today's posterior is tomorrow's prior\". What they mean is, if we then go on to do another experiement, we can use the posterior from the previous experiement as a new prior."
   ]
  },
  {
   "cell_type": "code",
   "execution_count": 87,
   "metadata": {
    "collapsed": true
   },
   "outputs": [],
   "source": [
    "conversions = [1, 0, 2, 0, 1]"
   ]
  },
  {
   "cell_type": "markdown",
   "metadata": {},
   "source": [
    "> instead of being given the final results of the performance of layout A after 100 visitors, we were given the results every 20 visitors."
   ]
  },
  {
   "cell_type": "markdown",
   "metadata": {},
   "source": [
    "* Now we can use our abayes function to set up an __\"online\" experiment__ that learns from new data as it arrives, and gives us a live picture of our beliefs.\n",
    "\n",
    "* We do this by writing a generator that yields up the posterior after an observation, and then uses that posterior as the prior for the next round."
   ]
  },
  {
   "cell_type": "code",
   "execution_count": 88,
   "metadata": {
    "collapsed": true
   },
   "outputs": [],
   "source": [
    "def online_abayes(datas, prior_sampler, simulate, compare, nsamples=10000):\n",
    "    '''Yield nsamples from the posterior for each observation in datas.'''\n",
    "    for data in datas:\n",
    "        posterior_samples = take(nsamples, abayes(data, prior_sampler, simulate, compare))\n",
    "        yield posterior_samples\n",
    "        prior_samples = posterior_samples\n",
    "        prior_sampler = sampler_from_samples(prior_samples)"
   ]
  },
  {
   "cell_type": "markdown",
   "metadata": {},
   "source": [
    ">> This generator very literally encodes the idea that \"today's posterior is tomorrow's prior\" in the penultimate line.\n",
    "\n",
    "> For each data point in datas, it runs ABC, yields the posterior samples, then updates the prior.\n",
    "\n",
    ">> The function sampler_from_samples takes a list of samples and turns it into an infinite generator, which is what abayes needs on the next iteration."
   ]
  },
  {
   "cell_type": "code",
   "execution_count": 89,
   "metadata": {
    "collapsed": true
   },
   "outputs": [],
   "source": [
    "def sampler_from_samples(samples):\n",
    "    '''\n",
    "    Returns a generator that yields a shuffled repeating \n",
    "    sequence of items from the finite iterable samples.\n",
    "    '''\n",
    "    samples = list(samples)\n",
    "    random.sample(samples, len(samples))\n",
    "    return itertools.cycle(samples)"
   ]
  },
  {
   "cell_type": "markdown",
   "metadata": {},
   "source": [
    ">> Now we can set up a generator that yields a large number of samples from the posterior after each batch of 20 visitors."
   ]
  },
  {
   "cell_type": "code",
   "execution_count": 90,
   "metadata": {
    "collapsed": true
   },
   "outputs": [],
   "source": [
    "posteriors = online_abayes(\n",
    "    datas=conversions,\n",
    "    prior_sampler=uniform_prior_sampler(),\n",
    "    simulate=lambda p: simulate_conversion(p, 20),\n",
    "    compare=compare_conversion)"
   ]
  },
  {
   "cell_type": "code",
   "execution_count": 91,
   "metadata": {},
   "outputs": [
    {
     "data": {
      "image/png": "[encoded data removed]",
      "text/plain": [
       "<matplotlib.figure.Figure at 0x1c7359c8048>"
      ]
     },
     "metadata": {},
     "output_type": "display_data"
    }
   ],
   "source": [
    "fig, ax = plt.subplots(1, len(conversions), sharey=True)\n",
    "for i, p in enumerate(posteriors):\n",
    "    ax[i].hist(p, bins=abbins, normed=True)\n",
    "    ax[i].set_title('{} visitors'.format((i+1)*20))\n",
    "fig.tight_layout()"
   ]
  },
  {
   "cell_type": "markdown",
   "metadata": {},
   "source": [
    "> Note that the posterior distribution gets narrower and more concentrated as we collect more visitors. This means we're becoming more confident, which makes sense."
   ]
  },
  {
   "cell_type": "markdown",
   "metadata": {},
   "source": [
    "> The end result after 100 visitors is the same as what we had before, but the online approach allows us to make quantitative statements much earlier on. We can stop the experiment the minute we become confident enough for our use case."
   ]
  },
  {
   "cell_type": "markdown",
   "metadata": {},
   "source": [
    "> And equally importantly: it allows us to smoothly transition from a reigime in which we're depending on our best guess (the prior), to one where our beliefs are dominated by data. This is useful when you're bootstrapping a product that depends on data that you don't yet have, perhaps because you don't have any users"
   ]
  },
  {
   "cell_type": "markdown",
   "metadata": {},
   "source": [
    ">  then reimplemented ABC using idiomatic Python, and in particular, lots of generators. We saw how these sequences, that are lazily evaluated and of potentially infinite length, can make code more concise and also more general.\n",
    "\n",
    ">> in our approach, we become increasingly less sensitive to the prior the more data we have. If you don't like priors, get more data."
   ]
  }
 ],
 "metadata": {
  "kernelspec": {
   "display_name": "Python 3",
   "language": "python",
   "name": "python3"
  },
  "language_info": {
   "codemirror_mode": {
    "name": "ipython",
    "version": 3
   },
   "file_extension": ".py",
   "mimetype": "text/x-python",
   "name": "python",
   "nbconvert_exporter": "python",
   "pygments_lexer": "ipython3",
   "version": "3.6.2"
  }
 },
 "nbformat": 4,
 "nbformat_minor": 2
}
